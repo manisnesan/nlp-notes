{
 "cells": [
  {
   "cell_type": "markdown",
   "metadata": {},
   "source": [
    "This notebook illustrates one of the graph based Key Phrase Extraction (SingleRank) method on Openshift 4 dataset. "
   ]
  },
  {
   "cell_type": "markdown",
   "metadata": {},
   "source": [
    "Outline\n",
    "- Download the dataset\n",
    "- Initialize SingleRank\n",
    "- Extract keyphrases\n",
    "- Dump the results"
   ]
  },
  {
   "cell_type": "code",
   "execution_count": 4,
   "metadata": {},
   "outputs": [],
   "source": [
    "import pke\n",
    "import pandas as pd"
   ]
  },
  {
   "cell_type": "code",
   "execution_count": 3,
   "metadata": {},
   "outputs": [],
   "source": [
    "#!python -m nltk.downloader stopwords\n",
    "#!python -m nltk.downloader universal_target\n",
    "#!python -m spacy download en # download the english model"
   ]
  },
  {
   "cell_type": "code",
   "execution_count": 47,
   "metadata": {},
   "outputs": [],
   "source": [
    "# skips useless warnings in the pke methods\n",
    "import logging\n",
    "\n",
    "logging.basicConfig(level=logging.CRITICAL)"
   ]
  },
  {
   "cell_type": "code",
   "execution_count": 57,
   "metadata": {},
   "outputs": [],
   "source": [
    "def keyphrases(text):\n",
    "    \n",
    "    # define the set of valid Part Of Speech tags \n",
    "    pos = {'NOUN', 'PROPN', 'ADJ'}\n",
    "    \n",
    "    #create a SingleRank extractor\n",
    "    singleRank_extractor = pke.unsupervised.SingleRank()\n",
    "    \n",
    "    # load the content of the document\n",
    "    singleRank_extractor.load_document(input=text, language='en', normalization=None)\n",
    "    \n",
    "    # candidate selection (select the longest sequences of nouns and adjectives as candidates)\n",
    "    singleRank_extractor.candidate_selection(pos)\n",
    "    \n",
    "    # candidate_weighing\n",
    "    # candidate phrases are weighted using sum of their word's scores computed\n",
    "    # using random walk. In graph, nodes are words of certain part-of-speech(nouns & adjectives)\n",
    "    # that are connected if they occur in a window of 10 words\n",
    "    singleRank_extractor.candidate_weighting(window=10, pos=pos)\n",
    "    \n",
    "    # rank the keyphrase and get the 10-higest scored candidates\n",
    "    keyphrases_with_scores = singleRank_extractor.get_n_best(n=10)\n",
    "    phrases = [keyphrase for keyphrase, score in keyphrases_with_scores]\n",
    "    \n",
    "    return phrases"
   ]
  },
  {
   "cell_type": "code",
   "execution_count": 1,
   "metadata": {},
   "outputs": [
    {
     "ename": "NameError",
     "evalue": "name 'pd' is not defined",
     "output_type": "error",
     "traceback": [
      "\u001b[0;31m---------------------------------------------------------------------------\u001b[0m",
      "\u001b[0;31mNameError\u001b[0m                                 Traceback (most recent call last)",
      "\u001b[0;32m<ipython-input-1-6f467753f68c>\u001b[0m in \u001b[0;36m<module>\u001b[0;34m\u001b[0m\n\u001b[0;32m----> 1\u001b[0;31m \u001b[0mdf\u001b[0m\u001b[0;34m=\u001b[0m\u001b[0mpd\u001b[0m\u001b[0;34m.\u001b[0m\u001b[0mread_csv\u001b[0m\u001b[0;34m(\u001b[0m\u001b[0;34m'../data/openshift4_demo.csv'\u001b[0m\u001b[0;34m)\u001b[0m\u001b[0;34m\u001b[0m\u001b[0;34m\u001b[0m\u001b[0m\n\u001b[0m",
      "\u001b[0;31mNameError\u001b[0m: name 'pd' is not defined"
     ]
    }
   ],
   "source": [
    "df=pd.read_csv('../data/openshift4_demo.csv')"
   ]
  },
  {
   "cell_type": "code",
   "execution_count": 69,
   "metadata": {},
   "outputs": [
    {
     "data": {
      "text/html": [
       "<div>\n",
       "<style scoped>\n",
       "    .dataframe tbody tr th:only-of-type {\n",
       "        vertical-align: middle;\n",
       "    }\n",
       "\n",
       "    .dataframe tbody tr th {\n",
       "        vertical-align: top;\n",
       "    }\n",
       "\n",
       "    .dataframe thead th {\n",
       "        text-align: right;\n",
       "    }\n",
       "</style>\n",
       "<table border=\"1\" class=\"dataframe\">\n",
       "  <thead>\n",
       "    <tr style=\"text-align: right;\">\n",
       "      <th></th>\n",
       "      <th>allTitle</th>\n",
       "      <th>view_uri</th>\n",
       "    </tr>\n",
       "  </thead>\n",
       "  <tbody>\n",
       "    <tr>\n",
       "      <th>0</th>\n",
       "      <td>oc command line tool is throwing invalid chara...</td>\n",
       "      <td>https://access.redhat.com/solutions/4034641</td>\n",
       "    </tr>\n",
       "    <tr>\n",
       "      <th>1</th>\n",
       "      <td>Debugging OpenShift 4.x</td>\n",
       "      <td>https://access.redhat.com/articles/3780981</td>\n",
       "    </tr>\n",
       "    <tr>\n",
       "      <th>2</th>\n",
       "      <td>Getting Journal Logs from the OpenShift 4.x ku...</td>\n",
       "      <td>https://access.redhat.com/solutions/3802181</td>\n",
       "    </tr>\n",
       "    <tr>\n",
       "      <th>3</th>\n",
       "      <td>How to connect to Openshift Container Platform...</td>\n",
       "      <td>https://access.redhat.com/solutions/4073041</td>\n",
       "    </tr>\n",
       "    <tr>\n",
       "      <th>4</th>\n",
       "      <td>What are the credentials for OpenShift 4 Route...</td>\n",
       "      <td>https://access.redhat.com/solutions/4064271</td>\n",
       "    </tr>\n",
       "  </tbody>\n",
       "</table>\n",
       "</div>"
      ],
      "text/plain": [
       "                                            allTitle  \\\n",
       "0  oc command line tool is throwing invalid chara...   \n",
       "1                            Debugging OpenShift 4.x   \n",
       "2  Getting Journal Logs from the OpenShift 4.x ku...   \n",
       "3  How to connect to Openshift Container Platform...   \n",
       "4  What are the credentials for OpenShift 4 Route...   \n",
       "\n",
       "                                      view_uri  \n",
       "0  https://access.redhat.com/solutions/4034641  \n",
       "1   https://access.redhat.com/articles/3780981  \n",
       "2  https://access.redhat.com/solutions/3802181  \n",
       "3  https://access.redhat.com/solutions/4073041  \n",
       "4  https://access.redhat.com/solutions/4064271  "
      ]
     },
     "execution_count": 69,
     "metadata": {},
     "output_type": "execute_result"
    }
   ],
   "source": [
    "df.head()"
   ]
  },
  {
   "cell_type": "code",
   "execution_count": 70,
   "metadata": {},
   "outputs": [],
   "source": [
    "text_content = df['allTitle'][3]"
   ]
  },
  {
   "cell_type": "markdown",
   "metadata": {},
   "source": [
    "## Single Rank initialization"
   ]
  },
  {
   "cell_type": "code",
   "execution_count": 71,
   "metadata": {},
   "outputs": [],
   "source": [
    "# define the set of valid POS\n",
    "pos = {'NOUN', 'PROPN', 'ADJ'}"
   ]
  },
  {
   "cell_type": "code",
   "execution_count": 72,
   "metadata": {},
   "outputs": [],
   "source": [
    "#create a SingleRank extractor\n",
    "singleRank_extractor = pke.unsupervised.SingleRank()"
   ]
  },
  {
   "cell_type": "code",
   "execution_count": 73,
   "metadata": {},
   "outputs": [],
   "source": [
    "# load the content of the document\n",
    "singleRank_extractor.load_document(input=text_content, language='en', normalization=None)"
   ]
  },
  {
   "cell_type": "markdown",
   "metadata": {},
   "source": [
    "## Keyphrase Extraction"
   ]
  },
  {
   "cell_type": "code",
   "execution_count": 74,
   "metadata": {},
   "outputs": [],
   "source": [
    "# candidate selection\n",
    "singleRank_extractor.candidate_selection(pos)"
   ]
  },
  {
   "cell_type": "code",
   "execution_count": 75,
   "metadata": {},
   "outputs": [],
   "source": [
    "# candidate_weighting using the default weighing scheme\n",
    "singleRank_extractor.candidate_weighting(window=10, pos=pos)"
   ]
  },
  {
   "cell_type": "code",
   "execution_count": 76,
   "metadata": {},
   "outputs": [
    {
     "name": "stderr",
     "output_type": "stream",
     "text": [
      "WARNING:root:Not enough candidates to choose from (10 requested, 3 given)\n"
     ]
    },
    {
     "data": {
      "text/plain": [
       "[('ssh bastion pod', 0.3750001099999999),\n",
       " ('openshift container platform', 0.37500003999999987),\n",
       " ('cluster nodes', 0.25000007999999996)]"
      ]
     },
     "execution_count": 76,
     "metadata": {},
     "output_type": "execute_result"
    }
   ],
   "source": [
    "keyphrases_with_scores = singleRank_extractor.get_n_best(n=10); keyphrases_with_scores"
   ]
  },
  {
   "cell_type": "code",
   "execution_count": 77,
   "metadata": {},
   "outputs": [],
   "source": [
    "phrases = [keyphrase for keyphrase, score in keyphrases_with_scores]"
   ]
  },
  {
   "cell_type": "code",
   "execution_count": 78,
   "metadata": {},
   "outputs": [
    {
     "data": {
      "text/plain": [
       "['ssh bastion pod', 'openshift container platform', 'cluster nodes']"
      ]
     },
     "execution_count": 78,
     "metadata": {},
     "output_type": "execute_result"
    }
   ],
   "source": [
    "phrases"
   ]
  },
  {
   "cell_type": "markdown",
   "metadata": {},
   "source": [
    "## KPE from title"
   ]
  },
  {
   "cell_type": "code",
   "execution_count": 79,
   "metadata": {},
   "outputs": [
    {
     "name": "stderr",
     "output_type": "stream",
     "text": [
      "WARNING:root:Not enough candidates to choose from (10 requested, 2 given)\n",
      "WARNING:root:Not enough candidates to choose from (10 requested, 1 given)\n",
      "WARNING:root:Not enough candidates to choose from (10 requested, 3 given)\n",
      "WARNING:root:Not enough candidates to choose from (10 requested, 3 given)\n",
      "WARNING:root:Not enough candidates to choose from (10 requested, 3 given)\n",
      "WARNING:root:Not enough candidates to choose from (10 requested, 3 given)\n",
      "WARNING:root:Not enough candidates to choose from (10 requested, 2 given)\n",
      "WARNING:root:Not enough candidates to choose from (10 requested, 1 given)\n",
      "WARNING:root:Not enough candidates to choose from (10 requested, 2 given)\n",
      "WARNING:root:Not enough candidates to choose from (10 requested, 2 given)\n",
      "WARNING:root:Not enough candidates to choose from (10 requested, 2 given)\n",
      "WARNING:root:Not enough candidates to choose from (10 requested, 2 given)\n",
      "WARNING:root:Not enough candidates to choose from (10 requested, 3 given)\n",
      "WARNING:root:Not enough candidates to choose from (10 requested, 2 given)\n",
      "WARNING:root:Not enough candidates to choose from (10 requested, 3 given)\n",
      "WARNING:root:Not enough candidates to choose from (10 requested, 7 given)\n",
      "WARNING:root:Not enough candidates to choose from (10 requested, 2 given)\n",
      "WARNING:root:Not enough candidates to choose from (10 requested, 2 given)\n",
      "WARNING:root:Not enough candidates to choose from (10 requested, 3 given)\n",
      "WARNING:root:Not enough candidates to choose from (10 requested, 2 given)\n",
      "WARNING:root:Not enough candidates to choose from (10 requested, 3 given)\n",
      "WARNING:root:Not enough candidates to choose from (10 requested, 2 given)\n",
      "WARNING:root:Not enough candidates to choose from (10 requested, 3 given)\n",
      "WARNING:root:Not enough candidates to choose from (10 requested, 3 given)\n",
      "WARNING:root:Not enough candidates to choose from (10 requested, 3 given)\n",
      "WARNING:root:Not enough candidates to choose from (10 requested, 3 given)\n",
      "WARNING:root:Not enough candidates to choose from (10 requested, 2 given)\n",
      "WARNING:root:Not enough candidates to choose from (10 requested, 2 given)\n",
      "WARNING:root:Not enough candidates to choose from (10 requested, 2 given)\n",
      "WARNING:root:Not enough candidates to choose from (10 requested, 3 given)\n",
      "WARNING:root:Not enough candidates to choose from (10 requested, 4 given)\n",
      "WARNING:root:Not enough candidates to choose from (10 requested, 3 given)\n",
      "WARNING:root:Not enough candidates to choose from (10 requested, 4 given)\n",
      "WARNING:root:Not enough candidates to choose from (10 requested, 4 given)\n",
      "WARNING:root:Not enough candidates to choose from (10 requested, 2 given)\n",
      "WARNING:root:Not enough candidates to choose from (10 requested, 4 given)\n",
      "WARNING:root:Not enough candidates to choose from (10 requested, 2 given)\n",
      "WARNING:root:Not enough candidates to choose from (10 requested, 3 given)\n",
      "WARNING:root:Not enough candidates to choose from (10 requested, 2 given)\n",
      "WARNING:root:Not enough candidates to choose from (10 requested, 3 given)\n",
      "WARNING:root:Not enough candidates to choose from (10 requested, 3 given)\n",
      "WARNING:root:Not enough candidates to choose from (10 requested, 6 given)\n",
      "WARNING:root:Not enough candidates to choose from (10 requested, 2 given)\n",
      "WARNING:root:Not enough candidates to choose from (10 requested, 3 given)\n",
      "WARNING:root:Not enough candidates to choose from (10 requested, 2 given)\n",
      "WARNING:root:Not enough candidates to choose from (10 requested, 3 given)\n",
      "WARNING:root:Not enough candidates to choose from (10 requested, 4 given)\n",
      "WARNING:root:Not enough candidates to choose from (10 requested, 3 given)\n",
      "WARNING:root:Not enough candidates to choose from (10 requested, 5 given)\n",
      "WARNING:root:Not enough candidates to choose from (10 requested, 5 given)\n",
      "WARNING:root:Not enough candidates to choose from (10 requested, 3 given)\n",
      "WARNING:root:Not enough candidates to choose from (10 requested, 1 given)\n",
      "WARNING:root:Not enough candidates to choose from (10 requested, 4 given)\n",
      "WARNING:root:Not enough candidates to choose from (10 requested, 1 given)\n",
      "WARNING:root:Not enough candidates to choose from (10 requested, 3 given)\n",
      "WARNING:root:Not enough candidates to choose from (10 requested, 3 given)\n",
      "WARNING:root:Not enough candidates to choose from (10 requested, 2 given)\n",
      "WARNING:root:Not enough candidates to choose from (10 requested, 2 given)\n",
      "WARNING:root:Not enough candidates to choose from (10 requested, 3 given)\n",
      "WARNING:root:Not enough candidates to choose from (10 requested, 1 given)\n",
      "WARNING:root:Not enough candidates to choose from (10 requested, 4 given)\n",
      "WARNING:root:Not enough candidates to choose from (10 requested, 3 given)\n",
      "WARNING:root:Not enough candidates to choose from (10 requested, 3 given)\n",
      "WARNING:root:Not enough candidates to choose from (10 requested, 6 given)\n",
      "WARNING:root:Not enough candidates to choose from (10 requested, 5 given)\n",
      "WARNING:root:Not enough candidates to choose from (10 requested, 5 given)\n",
      "WARNING:root:Not enough candidates to choose from (10 requested, 4 given)\n",
      "WARNING:root:Not enough candidates to choose from (10 requested, 2 given)\n",
      "WARNING:root:Not enough candidates to choose from (10 requested, 3 given)\n",
      "WARNING:root:Not enough candidates to choose from (10 requested, 1 given)\n",
      "WARNING:root:Not enough candidates to choose from (10 requested, 3 given)\n"
     ]
    }
   ],
   "source": [
    "df['allTitle_kpe'] = df['allTitle'].apply(lambda x: keyphrases(x))"
   ]
  },
  {
   "cell_type": "code",
   "execution_count": 82,
   "metadata": {},
   "outputs": [
    {
     "data": {
      "text/html": [
       "<div>\n",
       "<style scoped>\n",
       "    .dataframe tbody tr th:only-of-type {\n",
       "        vertical-align: middle;\n",
       "    }\n",
       "\n",
       "    .dataframe tbody tr th {\n",
       "        vertical-align: top;\n",
       "    }\n",
       "\n",
       "    .dataframe thead th {\n",
       "        text-align: right;\n",
       "    }\n",
       "</style>\n",
       "<table border=\"1\" class=\"dataframe\">\n",
       "  <thead>\n",
       "    <tr style=\"text-align: right;\">\n",
       "      <th></th>\n",
       "      <th>allTitle</th>\n",
       "      <th>view_uri</th>\n",
       "      <th>allTitle_kpe</th>\n",
       "    </tr>\n",
       "  </thead>\n",
       "  <tbody>\n",
       "    <tr>\n",
       "      <th>0</th>\n",
       "      <td>oc command line tool is throwing invalid chara...</td>\n",
       "      <td>https://access.redhat.com/solutions/4034641</td>\n",
       "      <td>[invalid character error, command line tool]</td>\n",
       "    </tr>\n",
       "    <tr>\n",
       "      <th>1</th>\n",
       "      <td>Debugging OpenShift 4.x</td>\n",
       "      <td>https://access.redhat.com/articles/3780981</td>\n",
       "      <td>[openshift]</td>\n",
       "    </tr>\n",
       "    <tr>\n",
       "      <th>2</th>\n",
       "      <td>Getting Journal Logs from the OpenShift 4.x ku...</td>\n",
       "      <td>https://access.redhat.com/solutions/3802181</td>\n",
       "      <td>[journal logs, kubelet, openshift]</td>\n",
       "    </tr>\n",
       "    <tr>\n",
       "      <th>3</th>\n",
       "      <td>How to connect to Openshift Container Platform...</td>\n",
       "      <td>https://access.redhat.com/solutions/4073041</td>\n",
       "      <td>[ssh bastion pod, openshift container platform...</td>\n",
       "    </tr>\n",
       "    <tr>\n",
       "      <th>4</th>\n",
       "      <td>What are the credentials for OpenShift 4 Route...</td>\n",
       "      <td>https://access.redhat.com/solutions/4064271</td>\n",
       "      <td>[router metrics, openshift, credentials]</td>\n",
       "    </tr>\n",
       "    <tr>\n",
       "      <th>5</th>\n",
       "      <td>What nameserver does a Pod use to resolve a ho...</td>\n",
       "      <td>https://access.redhat.com/solutions/4064211</td>\n",
       "      <td>[pod use, openshift, hostname]</td>\n",
       "    </tr>\n",
       "    <tr>\n",
       "      <th>6</th>\n",
       "      <td>What is the default OpenShift CNI Plugin in Op...</td>\n",
       "      <td>https://access.redhat.com/solutions/4064171</td>\n",
       "      <td>[default openshift cni plugin, openshift]</td>\n",
       "    </tr>\n",
       "    <tr>\n",
       "      <th>7</th>\n",
       "      <td>Authentication operator fails to upgrade</td>\n",
       "      <td>https://access.redhat.com/solutions/4059611</td>\n",
       "      <td>[authentication operator]</td>\n",
       "    </tr>\n",
       "    <tr>\n",
       "      <th>8</th>\n",
       "      <td>who-can command gives incorrect output</td>\n",
       "      <td>https://access.redhat.com/solutions/4058371</td>\n",
       "      <td>[incorrect output, command]</td>\n",
       "    </tr>\n",
       "    <tr>\n",
       "      <th>9</th>\n",
       "      <td>How to upgrade the Openshift 4 cluster?</td>\n",
       "      <td>https://access.redhat.com/solutions/4044181</td>\n",
       "      <td>[cluster, openshift]</td>\n",
       "    </tr>\n",
       "    <tr>\n",
       "      <th>10</th>\n",
       "      <td>/etc/ssl/etcd folder does not exist.</td>\n",
       "      <td>https://access.redhat.com/solutions/4045091</td>\n",
       "      <td>[etcd folder, ssl]</td>\n",
       "    </tr>\n",
       "    <tr>\n",
       "      <th>11</th>\n",
       "      <td>How to configure an HTPasswd identity provider...</td>\n",
       "      <td>https://access.redhat.com/solutions/4039941</td>\n",
       "      <td>[openshift container platform, htpasswd identi...</td>\n",
       "    </tr>\n",
       "    <tr>\n",
       "      <th>12</th>\n",
       "      <td>Provide the same GUI and CLI URL to login in O...</td>\n",
       "      <td>https://access.redhat.com/solutions/4001061</td>\n",
       "      <td>[cli url, same gui, openshift]</td>\n",
       "    </tr>\n",
       "    <tr>\n",
       "      <th>13</th>\n",
       "      <td>Add wildcard certificate to router in OpenShif...</td>\n",
       "      <td>https://access.redhat.com/solutions/3999021</td>\n",
       "      <td>[openshift container platform, wildcard certif...</td>\n",
       "    </tr>\n",
       "    <tr>\n",
       "      <th>14</th>\n",
       "      <td>Where do the metrics for  the HPA come from in...</td>\n",
       "      <td>https://access.redhat.com/solutions/3990701</td>\n",
       "      <td>[ocp, hpa, metrics]</td>\n",
       "    </tr>\n",
       "    <tr>\n",
       "      <th>15</th>\n",
       "      <td>oc debug node command fails with \"unable to e...</td>\n",
       "      <td>https://access.redhat.com/solutions/3988281</td>\n",
       "      <td>[oc debug node, pod template, node, unable, co...</td>\n",
       "    </tr>\n",
       "    <tr>\n",
       "      <th>16</th>\n",
       "      <td>Backing up ETCD data with OpenShift Container ...</td>\n",
       "      <td>https://access.redhat.com/solutions/3978571</td>\n",
       "      <td>[openshift container platform, etcd data]</td>\n",
       "    </tr>\n",
       "    <tr>\n",
       "      <th>17</th>\n",
       "      <td>ETCD Commands for OpenShift 4.x</td>\n",
       "      <td>https://access.redhat.com/solutions/3978611</td>\n",
       "      <td>[etcd commands, openshift]</td>\n",
       "    </tr>\n",
       "    <tr>\n",
       "      <th>18</th>\n",
       "      <td>How to access the integrated registry in OpenS...</td>\n",
       "      <td>https://access.redhat.com/solutions/3967481</td>\n",
       "      <td>[openshift 4.x, cluster, registry]</td>\n",
       "    </tr>\n",
       "    <tr>\n",
       "      <th>19</th>\n",
       "      <td>How to replace Web Console certificate in Open...</td>\n",
       "      <td>https://access.redhat.com/solutions/3964921</td>\n",
       "      <td>[web console certificate, openshift]</td>\n",
       "    </tr>\n",
       "  </tbody>\n",
       "</table>\n",
       "</div>"
      ],
      "text/plain": [
       "                                             allTitle  \\\n",
       "0   oc command line tool is throwing invalid chara...   \n",
       "1                             Debugging OpenShift 4.x   \n",
       "2   Getting Journal Logs from the OpenShift 4.x ku...   \n",
       "3   How to connect to Openshift Container Platform...   \n",
       "4   What are the credentials for OpenShift 4 Route...   \n",
       "5   What nameserver does a Pod use to resolve a ho...   \n",
       "6   What is the default OpenShift CNI Plugin in Op...   \n",
       "7            Authentication operator fails to upgrade   \n",
       "8              who-can command gives incorrect output   \n",
       "9             How to upgrade the Openshift 4 cluster?   \n",
       "10               /etc/ssl/etcd folder does not exist.   \n",
       "11  How to configure an HTPasswd identity provider...   \n",
       "12  Provide the same GUI and CLI URL to login in O...   \n",
       "13  Add wildcard certificate to router in OpenShif...   \n",
       "14  Where do the metrics for  the HPA come from in...   \n",
       "15   oc debug node command fails with \"unable to e...   \n",
       "16  Backing up ETCD data with OpenShift Container ...   \n",
       "17                    ETCD Commands for OpenShift 4.x   \n",
       "18  How to access the integrated registry in OpenS...   \n",
       "19  How to replace Web Console certificate in Open...   \n",
       "\n",
       "                                       view_uri  \\\n",
       "0   https://access.redhat.com/solutions/4034641   \n",
       "1    https://access.redhat.com/articles/3780981   \n",
       "2   https://access.redhat.com/solutions/3802181   \n",
       "3   https://access.redhat.com/solutions/4073041   \n",
       "4   https://access.redhat.com/solutions/4064271   \n",
       "5   https://access.redhat.com/solutions/4064211   \n",
       "6   https://access.redhat.com/solutions/4064171   \n",
       "7   https://access.redhat.com/solutions/4059611   \n",
       "8   https://access.redhat.com/solutions/4058371   \n",
       "9   https://access.redhat.com/solutions/4044181   \n",
       "10  https://access.redhat.com/solutions/4045091   \n",
       "11  https://access.redhat.com/solutions/4039941   \n",
       "12  https://access.redhat.com/solutions/4001061   \n",
       "13  https://access.redhat.com/solutions/3999021   \n",
       "14  https://access.redhat.com/solutions/3990701   \n",
       "15  https://access.redhat.com/solutions/3988281   \n",
       "16  https://access.redhat.com/solutions/3978571   \n",
       "17  https://access.redhat.com/solutions/3978611   \n",
       "18  https://access.redhat.com/solutions/3967481   \n",
       "19  https://access.redhat.com/solutions/3964921   \n",
       "\n",
       "                                         allTitle_kpe  \n",
       "0        [invalid character error, command line tool]  \n",
       "1                                         [openshift]  \n",
       "2                  [journal logs, kubelet, openshift]  \n",
       "3   [ssh bastion pod, openshift container platform...  \n",
       "4            [router metrics, openshift, credentials]  \n",
       "5                      [pod use, openshift, hostname]  \n",
       "6           [default openshift cni plugin, openshift]  \n",
       "7                           [authentication operator]  \n",
       "8                         [incorrect output, command]  \n",
       "9                                [cluster, openshift]  \n",
       "10                                 [etcd folder, ssl]  \n",
       "11  [openshift container platform, htpasswd identi...  \n",
       "12                     [cli url, same gui, openshift]  \n",
       "13  [openshift container platform, wildcard certif...  \n",
       "14                                [ocp, hpa, metrics]  \n",
       "15  [oc debug node, pod template, node, unable, co...  \n",
       "16          [openshift container platform, etcd data]  \n",
       "17                         [etcd commands, openshift]  \n",
       "18                 [openshift 4.x, cluster, registry]  \n",
       "19               [web console certificate, openshift]  "
      ]
     },
     "execution_count": 82,
     "metadata": {},
     "output_type": "execute_result"
    }
   ],
   "source": [
    "df.head(20)"
   ]
  },
  {
   "cell_type": "code",
   "execution_count": 83,
   "metadata": {},
   "outputs": [],
   "source": [
    "results = df[['allTitle', 'allTitle_kpe']]"
   ]
  },
  {
   "cell_type": "code",
   "execution_count": 84,
   "metadata": {},
   "outputs": [],
   "source": [
    "results.to_csv('results.csv')"
   ]
  },
  {
   "cell_type": "code",
   "execution_count": 85,
   "metadata": {},
   "outputs": [
    {
     "data": {
      "application/javascript": [
       "if (window.IPython && IPython.notebook.kernel) IPython.notebook.kernel.execute('jovian.utils.jupyter.get_notebook_name_saved = lambda: \"' + IPython.notebook.notebook_name + '\"')"
      ],
      "text/plain": [
       "<IPython.core.display.Javascript object>"
      ]
     },
     "metadata": {},
     "output_type": "display_data"
    },
    {
     "name": "stdout",
     "output_type": "stream",
     "text": [
      "[jovian] Saving notebook..\n"
     ]
    },
    {
     "data": {
      "application/javascript": [
       "window.require && require([\"base/js/namespace\"],function(Jupyter){Jupyter.notebook.save_checkpoint()})"
      ],
      "text/plain": [
       "<IPython.core.display.Javascript object>"
      ]
     },
     "metadata": {},
     "output_type": "display_data"
    },
    {
     "name": "stdout",
     "output_type": "stream",
     "text": [
      "[jovian] Creating a new notebook on https://jvn.io\n",
      "[jovian] Uploading notebook..\n",
      "[jovian] Capturing environment..\n",
      "[jovian] Committed successfully! https://jvn.io/manisnesan/7a7f29d7c3e844979b0b1aa6d5a0ee55\n"
     ]
    }
   ],
   "source": [
    "import jovian\n",
    "jovian.commit()"
   ]
  },
  {
   "cell_type": "code",
   "execution_count": null,
   "metadata": {},
   "outputs": [],
   "source": []
  }
 ],
 "metadata": {
  "kernelspec": {
   "display_name": "Python 3",
   "language": "python",
   "name": "python3"
  },
  "language_info": {
   "codemirror_mode": {
    "name": "ipython",
    "version": 3
   },
   "file_extension": ".py",
   "mimetype": "text/x-python",
   "name": "python",
   "nbconvert_exporter": "python",
   "pygments_lexer": "ipython3",
   "version": "3.6.8"
  },
  "toc": {
   "base_numbering": 1,
   "nav_menu": {},
   "number_sections": true,
   "sideBar": true,
   "skip_h1_title": false,
   "title_cell": "Table of Contents",
   "title_sidebar": "Contents",
   "toc_cell": false,
   "toc_position": {},
   "toc_section_display": true,
   "toc_window_display": false
  }
 },
 "nbformat": 4,
 "nbformat_minor": 2
}

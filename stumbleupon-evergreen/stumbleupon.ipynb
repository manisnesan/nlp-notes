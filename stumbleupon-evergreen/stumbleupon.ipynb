{
 "cells": [
  {
   "cell_type": "code",
   "execution_count": 1,
   "metadata": {},
   "outputs": [],
   "source": [
    "import numpy as np\n",
    "import pandas as pd\n",
    "\n",
    "from sklearn.feature_extraction.text import TfidfVectorizer\n",
    "from sklearn.model_selection import cross_val_score #Evaluate score by cross validation"
   ]
  },
  {
   "cell_type": "code",
   "execution_count": 2,
   "metadata": {},
   "outputs": [],
   "source": [
    "import sklearn.linear_model as lm"
   ]
  },
  {
   "cell_type": "code",
   "execution_count": 3,
   "metadata": {},
   "outputs": [
    {
     "data": {
      "text/plain": [
       "'1.16.2'"
      ]
     },
     "execution_count": 3,
     "metadata": {},
     "output_type": "execute_result"
    }
   ],
   "source": [
    "np.__version__"
   ]
  },
  {
   "cell_type": "code",
   "execution_count": null,
   "metadata": {},
   "outputs": [],
   "source": [
    "#Download the data\n",
    "#Uncomment this cell\n",
    "#!kaggle competitions download -c stumbleupon"
   ]
  },
  {
   "cell_type": "code",
   "execution_count": 4,
   "metadata": {},
   "outputs": [],
   "source": [
    "PATH='data'"
   ]
  },
  {
   "cell_type": "code",
   "execution_count": 5,
   "metadata": {},
   "outputs": [],
   "source": [
    "train_df = pd.read_csv(f'{PATH}/train.tsv', sep='\\t')"
   ]
  },
  {
   "cell_type": "code",
   "execution_count": 6,
   "metadata": {},
   "outputs": [],
   "source": [
    "test_df = pd.read_csv(f'{PATH}/test.tsv', sep='\\t')"
   ]
  },
  {
   "cell_type": "code",
   "execution_count": 7,
   "metadata": {},
   "outputs": [
    {
     "data": {
      "text/plain": [
       "(7395, 3171)"
      ]
     },
     "execution_count": 7,
     "metadata": {},
     "output_type": "execute_result"
    }
   ],
   "source": [
    "len(train_df), len(test_df)"
   ]
  },
  {
   "cell_type": "code",
   "execution_count": 8,
   "metadata": {},
   "outputs": [
    {
     "data": {
      "text/plain": [
       "Index(['url', 'urlid', 'boilerplate', 'alchemy_category',\n",
       "       'alchemy_category_score', 'avglinksize', 'commonlinkratio_1',\n",
       "       'commonlinkratio_2', 'commonlinkratio_3', 'commonlinkratio_4',\n",
       "       'compression_ratio', 'embed_ratio', 'framebased', 'frameTagRatio',\n",
       "       'hasDomainLink', 'html_ratio', 'image_ratio', 'is_news',\n",
       "       'lengthyLinkDomain', 'linkwordscore', 'news_front_page',\n",
       "       'non_markup_alphanum_characters', 'numberOfLinks', 'numwords_in_url',\n",
       "       'parametrizedLinkRatio', 'spelling_errors_ratio', 'label'],\n",
       "      dtype='object')"
      ]
     },
     "execution_count": 8,
     "metadata": {},
     "output_type": "execute_result"
    }
   ],
   "source": [
    "train_df.columns"
   ]
  },
  {
   "cell_type": "code",
   "execution_count": 9,
   "metadata": {},
   "outputs": [
    {
     "data": {
      "text/plain": [
       "Index(['url', 'urlid', 'boilerplate', 'alchemy_category',\n",
       "       'alchemy_category_score', 'avglinksize', 'commonlinkratio_1',\n",
       "       'commonlinkratio_2', 'commonlinkratio_3', 'commonlinkratio_4',\n",
       "       'compression_ratio', 'embed_ratio', 'framebased', 'frameTagRatio',\n",
       "       'hasDomainLink', 'html_ratio', 'image_ratio', 'is_news',\n",
       "       'lengthyLinkDomain', 'linkwordscore', 'news_front_page',\n",
       "       'non_markup_alphanum_characters', 'numberOfLinks', 'numwords_in_url',\n",
       "       'parametrizedLinkRatio', 'spelling_errors_ratio'],\n",
       "      dtype='object')"
      ]
     },
     "execution_count": 9,
     "metadata": {},
     "output_type": "execute_result"
    }
   ],
   "source": [
    "test_df.columns"
   ]
  },
  {
   "cell_type": "code",
   "execution_count": 10,
   "metadata": {},
   "outputs": [],
   "source": [
    "x = train_df.boilerplate.head(1)"
   ]
  },
  {
   "cell_type": "code",
   "execution_count": 11,
   "metadata": {},
   "outputs": [
    {
     "data": {
      "text/plain": [
       "'IBM Sees Holographic Calls Air Breathing Batteries ibm sees holographic calls, air-breathing batteries'"
      ]
     },
     "execution_count": 11,
     "metadata": {},
     "output_type": "execute_result"
    }
   ],
   "source": [
    "import json\n",
    "data = json.loads(x.values[0]);\n",
    "data['title']"
   ]
  },
  {
   "cell_type": "code",
   "execution_count": 12,
   "metadata": {},
   "outputs": [
    {
     "data": {
      "text/plain": [
       "'bloomberg news 2010 12 23 ibm predicts holographic calls air breathing batteries by 2015 html'"
      ]
     },
     "execution_count": 12,
     "metadata": {},
     "output_type": "execute_result"
    }
   ],
   "source": [
    "data['url']"
   ]
  },
  {
   "cell_type": "code",
   "execution_count": 13,
   "metadata": {},
   "outputs": [],
   "source": [
    "x_train, y = train_df.boilerplate.values, list(train_df.label.values)"
   ]
  },
  {
   "cell_type": "code",
   "execution_count": 14,
   "metadata": {},
   "outputs": [],
   "source": [
    "x_test = test_df.boilerplate.values"
   ]
  },
  {
   "cell_type": "code",
   "execution_count": 15,
   "metadata": {},
   "outputs": [],
   "source": [
    "tfidf_vectorizer = TfidfVectorizer(min_df=3,\n",
    "                                   max_features=None,\n",
    "                                   strip_accents='unicode', \n",
    "                                   analyzer='word',\n",
    "                                   token_pattern=r'\\w{1,}', \n",
    "                                   ngram_range=(1, 2), # an ngram_range of (1, 2) means unigrams and bigrams \n",
    "                                   use_idf=1,\n",
    "                                   smooth_idf=1,\n",
    "                                   sublinear_tf=1) # Apply sublinear tf scaling, i.e. replace tf with 1 + log(tf)"
   ]
  },
  {
   "cell_type": "code",
   "execution_count": 16,
   "metadata": {},
   "outputs": [],
   "source": [
    "X_all = list(x_train) + list(x_test)"
   ]
  },
  {
   "cell_type": "code",
   "execution_count": 17,
   "metadata": {},
   "outputs": [
    {
     "data": {
      "text/plain": [
       "TfidfVectorizer(analyzer='word', binary=False, decode_error='strict',\n",
       "        dtype=<class 'numpy.float64'>, encoding='utf-8', input='content',\n",
       "        lowercase=True, max_df=1.0, max_features=None, min_df=3,\n",
       "        ngram_range=(1, 2), norm='l2', preprocessor=None, smooth_idf=1,\n",
       "        stop_words=None, strip_accents='unicode', sublinear_tf=1,\n",
       "        token_pattern='\\\\w{1,}', tokenizer=None, use_idf=1,\n",
       "        vocabulary=None)"
      ]
     },
     "execution_count": 17,
     "metadata": {},
     "output_type": "execute_result"
    }
   ],
   "source": [
    "tfidf_vectorizer.fit(X_all)"
   ]
  },
  {
   "cell_type": "code",
   "execution_count": 18,
   "metadata": {},
   "outputs": [],
   "source": [
    "X_all_vec = tfidf_vectorizer.transform(X_all)"
   ]
  },
  {
   "cell_type": "code",
   "execution_count": 19,
   "metadata": {},
   "outputs": [],
   "source": [
    "X = X_all_vec[:len(train_df)]"
   ]
  },
  {
   "cell_type": "code",
   "execution_count": 20,
   "metadata": {},
   "outputs": [],
   "source": [
    "X_test = X_all_vec[len(train_df):]"
   ]
  },
  {
   "cell_type": "code",
   "execution_count": 25,
   "metadata": {},
   "outputs": [],
   "source": [
    "rd = lm.LogisticRegression(penalty='l2', dual=True, tol=0.0001, C=1, \n",
    "                           fit_intercept=True, intercept_scaling=1.0,\n",
    "                           class_weight=None, random_state=42\n",
    "                          )"
   ]
  },
  {
   "cell_type": "code",
   "execution_count": 29,
   "metadata": {},
   "outputs": [
    {
     "name": "stderr",
     "output_type": "stream",
     "text": [
      "/home/msivanes/miniconda3/envs/anlp/lib/python3.6/site-packages/sklearn/linear_model/logistic.py:433: FutureWarning: Default solver will be changed to 'lbfgs' in 0.22. Specify a solver to silence this warning.\n",
      "  FutureWarning)\n"
     ]
    },
    {
     "name": "stdout",
     "output_type": "stream",
     "text": [
      "20 Fold CV Score: 0.8771238382225308\n"
     ]
    }
   ],
   "source": [
    "print(f\"20 Fold CV Score: {np.mean(cross_val_score(rd, X, y, cv=20, scoring='roc_auc'))}\")"
   ]
  },
  {
   "cell_type": "code",
   "execution_count": 30,
   "metadata": {},
   "outputs": [
    {
     "name": "stdout",
     "output_type": "stream",
     "text": [
      "training on full data\n"
     ]
    },
    {
     "data": {
      "text/plain": [
       "LogisticRegression(C=1, class_weight=None, dual=True, fit_intercept=True,\n",
       "          intercept_scaling=1.0, max_iter=100, multi_class='warn',\n",
       "          n_jobs=None, penalty='l2', random_state=None, solver='warn',\n",
       "          tol=0.0001, verbose=0, warm_start=False)"
      ]
     },
     "execution_count": 30,
     "metadata": {},
     "output_type": "execute_result"
    }
   ],
   "source": [
    "print('training on full data')\n",
    "rd.fit(X, y)"
   ]
  },
  {
   "cell_type": "code",
   "execution_count": 32,
   "metadata": {},
   "outputs": [
    {
     "data": {
      "text/plain": [
       "array([[0.13883603, 0.86116397],\n",
       "       [0.79080926, 0.20919074],\n",
       "       [0.632865  , 0.367135  ],\n",
       "       ...,\n",
       "       [0.22973301, 0.77026699],\n",
       "       [0.27508717, 0.72491283],\n",
       "       [0.17519601, 0.82480399]])"
      ]
     },
     "execution_count": 32,
     "metadata": {},
     "output_type": "execute_result"
    }
   ],
   "source": [
    "rd.predict_proba(X_test)"
   ]
  },
  {
   "cell_type": "code",
   "execution_count": 35,
   "metadata": {},
   "outputs": [
    {
     "data": {
      "text/plain": [
       "array([0.86116397, 0.20919074, 0.367135  , ..., 0.77026699, 0.72491283,\n",
       "       0.82480399])"
      ]
     },
     "execution_count": 35,
     "metadata": {},
     "output_type": "execute_result"
    }
   ],
   "source": [
    "pred = rd.predict_proba(X_test)[:, 1];pred"
   ]
  },
  {
   "cell_type": "code",
   "execution_count": 33,
   "metadata": {},
   "outputs": [
    {
     "data": {
      "text/html": [
       "<div>\n",
       "<style scoped>\n",
       "    .dataframe tbody tr th:only-of-type {\n",
       "        vertical-align: middle;\n",
       "    }\n",
       "\n",
       "    .dataframe tbody tr th {\n",
       "        vertical-align: top;\n",
       "    }\n",
       "\n",
       "    .dataframe thead th {\n",
       "        text-align: right;\n",
       "    }\n",
       "</style>\n",
       "<table border=\"1\" class=\"dataframe\">\n",
       "  <thead>\n",
       "    <tr style=\"text-align: right;\">\n",
       "      <th></th>\n",
       "      <th>url</th>\n",
       "      <th>urlid</th>\n",
       "      <th>boilerplate</th>\n",
       "      <th>alchemy_category</th>\n",
       "      <th>alchemy_category_score</th>\n",
       "      <th>avglinksize</th>\n",
       "      <th>commonlinkratio_1</th>\n",
       "      <th>commonlinkratio_2</th>\n",
       "      <th>commonlinkratio_3</th>\n",
       "      <th>commonlinkratio_4</th>\n",
       "      <th>...</th>\n",
       "      <th>image_ratio</th>\n",
       "      <th>is_news</th>\n",
       "      <th>lengthyLinkDomain</th>\n",
       "      <th>linkwordscore</th>\n",
       "      <th>news_front_page</th>\n",
       "      <th>non_markup_alphanum_characters</th>\n",
       "      <th>numberOfLinks</th>\n",
       "      <th>numwords_in_url</th>\n",
       "      <th>parametrizedLinkRatio</th>\n",
       "      <th>spelling_errors_ratio</th>\n",
       "    </tr>\n",
       "  </thead>\n",
       "  <tbody>\n",
       "    <tr>\n",
       "      <th>0</th>\n",
       "      <td>http://www.lynnskitchenadventures.com/2009/04/...</td>\n",
       "      <td>5865</td>\n",
       "      <td>{\"title\":\"Homemade Enchilada Sauce Lynn s Kitc...</td>\n",
       "      <td>recreation</td>\n",
       "      <td>0.443906</td>\n",
       "      <td>2.558140</td>\n",
       "      <td>0.389706</td>\n",
       "      <td>0.257353</td>\n",
       "      <td>0.044118</td>\n",
       "      <td>0.022059</td>\n",
       "      <td>...</td>\n",
       "      <td>0.199438</td>\n",
       "      <td>1</td>\n",
       "      <td>1</td>\n",
       "      <td>15</td>\n",
       "      <td>0</td>\n",
       "      <td>5643</td>\n",
       "      <td>136</td>\n",
       "      <td>3</td>\n",
       "      <td>0.242647</td>\n",
       "      <td>0.080597</td>\n",
       "    </tr>\n",
       "    <tr>\n",
       "      <th>1</th>\n",
       "      <td>http://lolpics.se/18552-stun-grenade-ar</td>\n",
       "      <td>782</td>\n",
       "      <td>{\"title\":\"lolpics Stun grenade ar \",\"body\":\" f...</td>\n",
       "      <td>culture_politics</td>\n",
       "      <td>0.135844</td>\n",
       "      <td>3.771429</td>\n",
       "      <td>0.461538</td>\n",
       "      <td>0.205128</td>\n",
       "      <td>0.051282</td>\n",
       "      <td>0.000000</td>\n",
       "      <td>...</td>\n",
       "      <td>0.080000</td>\n",
       "      <td>?</td>\n",
       "      <td>1</td>\n",
       "      <td>62</td>\n",
       "      <td>0</td>\n",
       "      <td>382</td>\n",
       "      <td>39</td>\n",
       "      <td>2</td>\n",
       "      <td>0.128205</td>\n",
       "      <td>0.176471</td>\n",
       "    </tr>\n",
       "    <tr>\n",
       "      <th>2</th>\n",
       "      <td>http://www.xcelerationfitness.com/treadmills.html</td>\n",
       "      <td>6962</td>\n",
       "      <td>{\"title\":\"Treadmills \",\"body\":\" treadmills, st...</td>\n",
       "      <td>?</td>\n",
       "      <td>?</td>\n",
       "      <td>2.269565</td>\n",
       "      <td>0.495726</td>\n",
       "      <td>0.384615</td>\n",
       "      <td>0.170940</td>\n",
       "      <td>0.170940</td>\n",
       "      <td>...</td>\n",
       "      <td>10.000000</td>\n",
       "      <td>?</td>\n",
       "      <td>1</td>\n",
       "      <td>42</td>\n",
       "      <td>0</td>\n",
       "      <td>2420</td>\n",
       "      <td>117</td>\n",
       "      <td>1</td>\n",
       "      <td>0.581197</td>\n",
       "      <td>0.125000</td>\n",
       "    </tr>\n",
       "    <tr>\n",
       "      <th>3</th>\n",
       "      <td>http://www.bloomberg.com/news/2012-02-06/syria...</td>\n",
       "      <td>7640</td>\n",
       "      <td>{\"title\":\"Father s Tactics Used by Assad to Cr...</td>\n",
       "      <td>culture_politics</td>\n",
       "      <td>0.90259</td>\n",
       "      <td>2.523490</td>\n",
       "      <td>0.705502</td>\n",
       "      <td>0.346278</td>\n",
       "      <td>0.122977</td>\n",
       "      <td>0.090615</td>\n",
       "      <td>...</td>\n",
       "      <td>0.005964</td>\n",
       "      <td>1</td>\n",
       "      <td>1</td>\n",
       "      <td>41</td>\n",
       "      <td>0</td>\n",
       "      <td>5559</td>\n",
       "      <td>309</td>\n",
       "      <td>10</td>\n",
       "      <td>0.038835</td>\n",
       "      <td>0.063126</td>\n",
       "    </tr>\n",
       "    <tr>\n",
       "      <th>4</th>\n",
       "      <td>http://www.wired.com/gadgetlab/2011/12/stem-tu...</td>\n",
       "      <td>3589</td>\n",
       "      <td>{\"title\":\"Stem Turns Lemons and Limes Into Jui...</td>\n",
       "      <td>science_technology</td>\n",
       "      <td>0.486363</td>\n",
       "      <td>1.848000</td>\n",
       "      <td>0.470968</td>\n",
       "      <td>0.161290</td>\n",
       "      <td>0.032258</td>\n",
       "      <td>0.000000</td>\n",
       "      <td>...</td>\n",
       "      <td>0.035714</td>\n",
       "      <td>1</td>\n",
       "      <td>0</td>\n",
       "      <td>34</td>\n",
       "      <td>0</td>\n",
       "      <td>2209</td>\n",
       "      <td>155</td>\n",
       "      <td>10</td>\n",
       "      <td>0.096774</td>\n",
       "      <td>0.065341</td>\n",
       "    </tr>\n",
       "  </tbody>\n",
       "</table>\n",
       "<p>5 rows × 26 columns</p>\n",
       "</div>"
      ],
      "text/plain": [
       "                                                 url  urlid  \\\n",
       "0  http://www.lynnskitchenadventures.com/2009/04/...   5865   \n",
       "1            http://lolpics.se/18552-stun-grenade-ar    782   \n",
       "2  http://www.xcelerationfitness.com/treadmills.html   6962   \n",
       "3  http://www.bloomberg.com/news/2012-02-06/syria...   7640   \n",
       "4  http://www.wired.com/gadgetlab/2011/12/stem-tu...   3589   \n",
       "\n",
       "                                         boilerplate    alchemy_category  \\\n",
       "0  {\"title\":\"Homemade Enchilada Sauce Lynn s Kitc...          recreation   \n",
       "1  {\"title\":\"lolpics Stun grenade ar \",\"body\":\" f...    culture_politics   \n",
       "2  {\"title\":\"Treadmills \",\"body\":\" treadmills, st...                   ?   \n",
       "3  {\"title\":\"Father s Tactics Used by Assad to Cr...    culture_politics   \n",
       "4  {\"title\":\"Stem Turns Lemons and Limes Into Jui...  science_technology   \n",
       "\n",
       "  alchemy_category_score  avglinksize  commonlinkratio_1  commonlinkratio_2  \\\n",
       "0               0.443906     2.558140           0.389706           0.257353   \n",
       "1               0.135844     3.771429           0.461538           0.205128   \n",
       "2                      ?     2.269565           0.495726           0.384615   \n",
       "3                0.90259     2.523490           0.705502           0.346278   \n",
       "4               0.486363     1.848000           0.470968           0.161290   \n",
       "\n",
       "   commonlinkratio_3  commonlinkratio_4  ...  image_ratio  is_news  \\\n",
       "0           0.044118           0.022059  ...     0.199438        1   \n",
       "1           0.051282           0.000000  ...     0.080000        ?   \n",
       "2           0.170940           0.170940  ...    10.000000        ?   \n",
       "3           0.122977           0.090615  ...     0.005964        1   \n",
       "4           0.032258           0.000000  ...     0.035714        1   \n",
       "\n",
       "   lengthyLinkDomain  linkwordscore  news_front_page  \\\n",
       "0                  1             15                0   \n",
       "1                  1             62                0   \n",
       "2                  1             42                0   \n",
       "3                  1             41                0   \n",
       "4                  0             34                0   \n",
       "\n",
       "   non_markup_alphanum_characters  numberOfLinks numwords_in_url  \\\n",
       "0                            5643            136               3   \n",
       "1                             382             39               2   \n",
       "2                            2420            117               1   \n",
       "3                            5559            309              10   \n",
       "4                            2209            155              10   \n",
       "\n",
       "   parametrizedLinkRatio  spelling_errors_ratio  \n",
       "0               0.242647               0.080597  \n",
       "1               0.128205               0.176471  \n",
       "2               0.581197               0.125000  \n",
       "3               0.038835               0.063126  \n",
       "4               0.096774               0.065341  \n",
       "\n",
       "[5 rows x 26 columns]"
      ]
     },
     "execution_count": 33,
     "metadata": {},
     "output_type": "execute_result"
    }
   ],
   "source": [
    "test_df.head()"
   ]
  },
  {
   "cell_type": "code",
   "execution_count": 36,
   "metadata": {},
   "outputs": [],
   "source": [
    "test_df['label'] = pred"
   ]
  },
  {
   "cell_type": "code",
   "execution_count": 43,
   "metadata": {},
   "outputs": [
    {
     "data": {
      "text/html": [
       "<div>\n",
       "<style scoped>\n",
       "    .dataframe tbody tr th:only-of-type {\n",
       "        vertical-align: middle;\n",
       "    }\n",
       "\n",
       "    .dataframe tbody tr th {\n",
       "        vertical-align: top;\n",
       "    }\n",
       "\n",
       "    .dataframe thead th {\n",
       "        text-align: right;\n",
       "    }\n",
       "</style>\n",
       "<table border=\"1\" class=\"dataframe\">\n",
       "  <thead>\n",
       "    <tr style=\"text-align: right;\">\n",
       "      <th></th>\n",
       "      <th>urlid</th>\n",
       "      <th>label</th>\n",
       "    </tr>\n",
       "  </thead>\n",
       "  <tbody>\n",
       "    <tr>\n",
       "      <th>0</th>\n",
       "      <td>5865</td>\n",
       "      <td>0.861164</td>\n",
       "    </tr>\n",
       "    <tr>\n",
       "      <th>1</th>\n",
       "      <td>782</td>\n",
       "      <td>0.209191</td>\n",
       "    </tr>\n",
       "    <tr>\n",
       "      <th>2</th>\n",
       "      <td>6962</td>\n",
       "      <td>0.367135</td>\n",
       "    </tr>\n",
       "    <tr>\n",
       "      <th>3</th>\n",
       "      <td>7640</td>\n",
       "      <td>0.152227</td>\n",
       "    </tr>\n",
       "    <tr>\n",
       "      <th>4</th>\n",
       "      <td>3589</td>\n",
       "      <td>0.481974</td>\n",
       "    </tr>\n",
       "    <tr>\n",
       "      <th>5</th>\n",
       "      <td>6719</td>\n",
       "      <td>0.370930</td>\n",
       "    </tr>\n",
       "    <tr>\n",
       "      <th>6</th>\n",
       "      <td>3905</td>\n",
       "      <td>0.337508</td>\n",
       "    </tr>\n",
       "    <tr>\n",
       "      <th>7</th>\n",
       "      <td>9841</td>\n",
       "      <td>0.951243</td>\n",
       "    </tr>\n",
       "    <tr>\n",
       "      <th>8</th>\n",
       "      <td>7447</td>\n",
       "      <td>0.227502</td>\n",
       "    </tr>\n",
       "    <tr>\n",
       "      <th>9</th>\n",
       "      <td>4776</td>\n",
       "      <td>0.314005</td>\n",
       "    </tr>\n",
       "  </tbody>\n",
       "</table>\n",
       "</div>"
      ],
      "text/plain": [
       "   urlid     label\n",
       "0   5865  0.861164\n",
       "1    782  0.209191\n",
       "2   6962  0.367135\n",
       "3   7640  0.152227\n",
       "4   3589  0.481974\n",
       "5   6719  0.370930\n",
       "6   3905  0.337508\n",
       "7   9841  0.951243\n",
       "8   7447  0.227502\n",
       "9   4776  0.314005"
      ]
     },
     "execution_count": 43,
     "metadata": {},
     "output_type": "execute_result"
    }
   ],
   "source": [
    "test_df[['urlid', 'label']][:10]"
   ]
  },
  {
   "cell_type": "code",
   "execution_count": 40,
   "metadata": {},
   "outputs": [],
   "source": [
    "test_df[['urlid', 'label']].to_csv('submission.csv', index=False)"
   ]
  },
  {
   "cell_type": "code",
   "execution_count": 42,
   "metadata": {},
   "outputs": [
    {
     "name": "stdout",
     "output_type": "stream",
     "text": [
      "Warning: Looks like you're using an outdated API Version, please consider updating (server 1.5.10 / client 1.5.9)\n",
      "100%|███████████████████████████████████████| 74.9k/74.9k [00:00<00:00, 115kB/s]\n",
      "Successfully submitted to StumbleUpon Evergreen Classification Challenge"
     ]
    }
   ],
   "source": [
    "!kaggle competitions submit -c stumbleupon -f submission.csv -m 'Baseline benchmark'"
   ]
  },
  {
   "cell_type": "markdown",
   "metadata": {},
   "source": [
    "Obtained an AUC score of 0.87835 using Abishek benchmark script"
   ]
  }
 ],
 "metadata": {
  "kernelspec": {
   "display_name": "Python [conda env:anlp] *",
   "language": "python",
   "name": "conda-env-anlp-py"
  },
  "language_info": {
   "codemirror_mode": {
    "name": "ipython",
    "version": 3
   },
   "file_extension": ".py",
   "mimetype": "text/x-python",
   "name": "python",
   "nbconvert_exporter": "python",
   "pygments_lexer": "ipython3",
   "version": "3.6.8"
  }
 },
 "nbformat": 4,
 "nbformat_minor": 4
}
